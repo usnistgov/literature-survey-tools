{
 "cells": [
  {
   "cell_type": "markdown",
   "metadata": {},
   "source": [
    "# Setup for Extractive Summarization of Scientific Articles"
   ]
  },
  {
   "cell_type": "markdown",
   "metadata": {},
   "source": [
    "We assume a recent version of Python 3 (we use Python 3.8) with Jupyter notebook\n",
    "installed. We've developed and run this notebook in Windows 10 but believe that\n",
    "it will also work in Mac OS and Linux.\n",
    "\n",
    "The necessary packages can be installed as follows:"
   ]
  },
  {
   "cell_type": "code",
   "execution_count": 1,
   "metadata": {},
   "outputs": [
    {
     "name": "stdout",
     "output_type": "stream",
     "text": [
      "Collecting spacy\n",
      "  Using cached spacy-2.3.2-cp38-cp38-win_amd64.whl (9.5 MB)\n",
      "Collecting blis<0.5.0,>=0.4.0\n",
      "  Using cached blis-0.4.1-cp38-cp38-win_amd64.whl (5.0 MB)\n",
      "Collecting numpy>=1.15.0\n",
      "  Using cached numpy-1.19.1-cp38-cp38-win_amd64.whl (13.0 MB)\n",
      "Collecting murmurhash<1.1.0,>=0.28.0\n",
      "  Using cached murmurhash-1.0.2-cp38-cp38-win_amd64.whl (20 kB)\n",
      "Collecting srsly<1.1.0,>=1.0.2\n",
      "  Using cached srsly-1.0.2-cp38-cp38-win_amd64.whl (181 kB)\n",
      "Collecting catalogue<1.1.0,>=0.0.7\n",
      "  Using cached catalogue-1.0.0-py2.py3-none-any.whl (7.7 kB)\n",
      "Requirement already satisfied, skipping upgrade: setuptools in c:\\users\\dima\\appdata\\local\\continuum\\anaconda3\\envs\\troj-ai-summary\\lib\\site-packages (from spacy) (49.3.1.post20200810)\n",
      "Collecting cymem<2.1.0,>=2.0.2\n",
      "  Using cached cymem-2.0.3-cp38-cp38-win_amd64.whl (33 kB)\n",
      "Collecting preshed<3.1.0,>=3.0.2\n"
     ]
    }
   ],
   "source": [
    "!pip install -U spacy"
   ]
  },
  {
   "cell_type": "code",
   "execution_count": 2,
   "metadata": {},
   "outputs": [
    {
     "name": "stdout",
     "output_type": "stream",
     "text": [
      "  Using cached preshed-3.0.2-cp38-cp38-win_amd64.whl (115 kB)\n",
      "Collecting thinc==7.4.1\n",
      "  Using cached thinc-7.4.1-cp38-cp38-win_amd64.whl (2.1 MB)\n",
      "Collecting plac<1.2.0,>=0.9.6\n",
      "  Using cached plac-1.1.3-py2.py3-none-any.whl (20 kB)\n",
      "Collecting tqdm<5.0.0,>=4.38.0\n",
      "  Using cached tqdm-4.48.2-py2.py3-none-any.whl (68 kB)\n",
      "Processing c:\\users\\dima\\appdata\\local\\pip\\cache\\wheels\\f2\\d4\\16\\366223ea944794b7a8ff2194de44033ceef210e8d8bb76fe79\\wasabi-0.7.1-py3-none-any.whl\n",
      "Collecting requests<3.0.0,>=2.13.0\n",
      "  Using cached requests-2.24.0-py2.py3-none-any.whl (61 kB)\n",
      "Collecting urllib3!=1.25.0,!=1.25.1,<1.26,>=1.21.1\n",
      "  Using cached urllib3-1.25.10-py2.py3-none-any.whl (127 kB)\n",
      "Collecting chardet<4,>=3.0.2\n",
      "  Using cached chardet-3.0.4-py2.py3-none-any.whl (133 kB)\n",
      "Collecting idna<3,>=2.5\n",
      "  Using cached idna-2.10-py2.py3-none-any.whl (58 kB)\n",
      "Requirement already satisfied, skipping upgrade: certifi>=2017.4.17 in c:\\users\\dima\\appdata\\local\\continuum\\anaconda3\\envs\\troj-ai-summary\\lib\\site-packages (from requests<3.0.0,>=2.13.0->spacy) (2020.6.20)\n",
      "Installing collected packages: numpy, blis, murmurhash, srsly, catalogue, cymem, preshed, wasabi, plac, tqdm, thinc, urllib3, chardet, idna, requests, spacy\n",
      "Successfully installed blis-0.4.1 catalogue-1.0.0 chardet-3.0.4 cymem-2.0.3 idna-2.10 murmurhash-1.0.2 numpy-1.19.1 plac-1.1.3 preshed-3.0.2 requests-2.24.0 spacy-2.3.2 srsly-1.0.2 thinc-7.4.1 tqdm-4.48.2 urllib3-1.25.10 wasabi-0.7.1\n",
      "Collecting en_core_web_lg==2.3.1\n",
      "  Downloading https://github.com/explosion/spacy-models/releases/download/en_core_web_lg-2.3.1/en_core_web_lg-2.3.1.tar.gz (782.7 MB)\n",
      "Requirement already satisfied: spacy<2.4.0,>=2.3.0 in c:\\users\\dima\\appdata\\local\\continuum\\anaconda3\\envs\\troj-ai-summary\\lib\\site-packages (from en_core_web_lg==2.3.1) (2.3.2)\n",
      "Requirement already satisfied: cymem<2.1.0,>=2.0.2 in c:\\users\\dima\\appdata\\local\\continuum\\anaconda3\\envs\\troj-ai-summary\\lib\\site-packages (from spacy<2.4.0,>=2.3.0->en_core_web_lg==2.3.1) (2.0.3)\n",
      "Requirement already satisfied: preshed<3.1.0,>=3.0.2 in c:\\users\\dima\\appdata\\local\\continuum\\anaconda3\\envs\\troj-ai-summary\\lib\\site-packages (from spacy<2.4.0,>=2.3.0->en_core_web_lg==2.3.1) (3.0.2)\n",
      "Requirement already satisfied: tqdm<5.0.0,>=4.38.0 in c:\\users\\dima\\appdata\\local\\continuum\\anaconda3\\envs\\troj-ai-summary\\lib\\site-packages (from spacy<2.4.0,>=2.3.0->en_core_web_lg==2.3.1) (4.48.2)\n",
      "Requirement already satisfied: srsly<1.1.0,>=1.0.2 in c:\\users\\dima\\appdata\\local\\continuum\\anaconda3\\envs\\troj-ai-summary\\lib\\site-packages (from spacy<2.4.0,>=2.3.0->en_core_web_lg==2.3.1) (1.0.2)\n",
      "Requirement already satisfied: setuptools in c:\\users\\dima\\appdata\\local\\continuum\\anaconda3\\envs\\troj-ai-summary\\lib\\site-packages (from spacy<2.4.0,>=2.3.0->en_core_web_lg==2.3.1) (49.3.1.post20200810)\n",
      "Requirement already satisfied: wasabi<1.1.0,>=0.4.0 in c:\\users\\dima\\appdata\\local\\continuum\\anaconda3\\envs\\troj-ai-summary\\lib\\site-packages (from spacy<2.4.0,>=2.3.0->en_core_web_lg==2.3.1) (0.7.1)\n",
      "Requirement already satisfied: murmurhash<1.1.0,>=0.28.0 in c:\\users\\dima\\appdata\\local\\continuum\\anaconda3\\envs\\troj-ai-summary\\lib\\site-packages (from spacy<2.4.0,>=2.3.0->en_core_web_lg==2.3.1) (1.0.2)"
     ]
    }
   ],
   "source": [
    "!python -m spacy download en_core_web_lg"
   ]
  },
  {
   "cell_type": "code",
   "execution_count": 3,
   "metadata": {},
   "outputs": [
    {
     "name": "stdout",
     "output_type": "stream",
     "text": [
      "\n",
      "Requirement already satisfied: numpy>=1.15.0 in c:\\users\\dima\\appdata\\local\\continuum\\anaconda3\\envs\\troj-ai-summary\\lib\\site-packages (from spacy<2.4.0,>=2.3.0->en_core_web_lg==2.3.1) (1.19.1)\n",
      "Requirement already satisfied: catalogue<1.1.0,>=0.0.7 in c:\\users\\dima\\appdata\\local\\continuum\\anaconda3\\envs\\troj-ai-summary\\lib\\site-packages (from spacy<2.4.0,>=2.3.0->en_core_web_lg==2.3.1) (1.0.0)\n",
      "Requirement already satisfied: thinc==7.4.1 in c:\\users\\dima\\appdata\\local\\continuum\\anaconda3\\envs\\troj-ai-summary\\lib\\site-packages (from spacy<2.4.0,>=2.3.0->en_core_web_lg==2.3.1) (7.4.1)\n",
      "Requirement already satisfied: plac<1.2.0,>=0.9.6 in c:\\users\\dima\\appdata\\local\\continuum\\anaconda3\\envs\\troj-ai-summary\\lib\\site-packages (from spacy<2.4.0,>=2.3.0->en_core_web_lg==2.3.1) (1.1.3)\n",
      "Requirement already satisfied: requests<3.0.0,>=2.13.0 in c:\\users\\dima\\appdata\\local\\continuum\\anaconda3\\envs\\troj-ai-summary\\lib\\site-packages (from spacy<2.4.0,>=2.3.0->en_core_web_lg==2.3.1) (2.24.0)\n",
      "Requirement already satisfied: blis<0.5.0,>=0.4.0 in c:\\users\\dima\\appdata\\local\\continuum\\anaconda3\\envs\\troj-ai-summary\\lib\\site-packages (from spacy<2.4.0,>=2.3.0->en_core_web_lg==2.3.1) (0.4.1)\n",
      "Requirement already satisfied: certifi>=2017.4.17 in c:\\users\\dima\\appdata\\local\\continuum\\anaconda3\\envs\\troj-ai-summary\\lib\\site-packages (from requests<3.0.0,>=2.13.0->spacy<2.4.0,>=2.3.0->en_core_web_lg==2.3.1) (2020.6.20)\n",
      "Requirement already satisfied: urllib3!=1.25.0,!=1.25.1,<1.26,>=1.21.1 in c:\\users\\dima\\appdata\\local\\continuum\\anaconda3\\envs\\troj-ai-summary\\lib\\site-packages (from requests<3.0.0,>=2.13.0->spacy<2.4.0,>=2.3.0->en_core_web_lg==2.3.1) (1.25.10)\n",
      "Requirement already satisfied: idna<3,>=2.5 in c:\\users\\dima\\appdata\\local\\continuum\\anaconda3\\envs\\troj-ai-summary\\lib\\site-packages (from requests<3.0.0,>=2.13.0->spacy<2.4.0,>=2.3.0->en_core_web_lg==2.3.1) (2.10)\n",
      "Requirement already satisfied: chardet<4,>=3.0.2 in c:\\users\\dima\\appdata\\local\\continuum\\anaconda3\\envs\\troj-ai-summary\\lib\\site-packages (from requests<3.0.0,>=2.13.0->spacy<2.4.0,>=2.3.0->en_core_web_lg==2.3.1) (3.0.4)\n",
      "Building wheels for collected packages: en-core-web-lg\n",
      "  Building wheel for en-core-web-lg (setup.py): started\n",
      "  Building wheel for en-core-web-lg (setup.py): finished with status 'done'\n",
      "  Created wheel for en-core-web-lg: filename=en_core_web_lg-2.3.1-py3-none-any.whl size=782936129 sha256=c57fbd45eed98397e7e7f0586e9a3a9b1883f4fd0fa6eece638845b2e70cbef4\n",
      "  Stored in directory: C:\\Users\\dima\\AppData\\Local\\Temp\\3\\pip-ephem-wheel-cache-sk6mdt6d\\wheels\\8b\\bb\\bb\\bdc918f4b37d930a1be9ed876e7b2c2ee518a34803d78a248e\n",
      "Successfully built en-core-web-lg\n",
      "Installing collected packages: en-core-web-lg\n",
      "Successfully installed en-core-web-lg-2.3.1\n",
      "[+] Download and installation successful\n",
      "You can now load the model via spacy.load('en_core_web_lg')\n",
      "Collecting lexrank\n",
      "  Using cached lexrank-0.1.0-py3-none-any.whl (69 kB)\n",
      "Collecting path.py>=10.5\n",
      "  Using cached path.py-12.5.0-py3-none-any.whl (2.3 kB)\n",
      "Requirement already satisfied: numpy>=1.13.3 in c:\\users\\dima\\appdata\\local\\continuum\\anaconda3\\envs\\troj-ai-summary\\lib\\site-packages (from lexrank) (1.19.1)\n",
      "Collecting scipy>=0.19.0\n",
      "  Using cached scipy-1.5.2-cp38-cp38-win_amd64.whl (31.4 MB)\n",
      "Collecting regex>=2017.11.9\n",
      "  Using cached regex-2020.7.14-cp38-cp38-win_amd64.whl (264 kB)\n",
      "Requirement already satisfied: pyrsistent>=0.14.0 in c:\\users\\dima\\appdata\\local\\continuum\\anaconda3\\envs\\troj-ai-summary\\lib\\site-packages (from lexrank) (0.16.0)\n",
      "Collecting urlextract>=0.7\n",
      "  Using cached urlextract-1.0.0-py3-none-any.whl (19 kB)\n",
      "Collecting path\n",
      "  Using cached path-15.0.0-py3-none-any.whl (21 kB)\n",
      "Requirement already satisfied: six in c:\\users\\dima\\appdata\\local\\continuum\\anaconda3\\envs\\troj-ai-summary\\lib\\site-packages (from pyrsistent>=0.14.0->lexrank) (1.15.0)\n",
      "Collecting uritools\n",
      "  Using cached uritools-3.0.0-py3-none-any.whl (12 kB)\n",
      "Requirement already satisfied: idna in c:\\users\\dima\\appdata\\local\\continuum\\anaconda3\\envs\\troj-ai-summary\\lib\\site-packages (from urlextract>=0.7->lexrank) (2.10)\n",
      "Collecting appdirs\n",
      "  Using cached appdirs-1.4.4-py2.py3-none-any.whl (9.6 kB)\n",
      "Collecting filelock\n",
      "  Using cached filelock-3.0.12-py3-none-any.whl (7.6 kB)\n",
      "Installing collected packages: path, path.py, scipy, regex, uritools, appdirs, filelock, urlextract, lexrank\n",
      "Successfully installed appdirs-1.4.4 filelock-3.0.12 lexrank-0.1.0 path-15.0.0 path.py-12.5.0 regex-2020.7.14 scipy-1.5.2 uritools-3.0.0 urlextract-1.0.0\n"
     ]
    }
   ],
   "source": [
    "!pip install lexrank"
   ]
  },
  {
   "cell_type": "code",
   "execution_count": null,
   "metadata": {},
   "outputs": [],
   "source": []
  }
 ],
 "metadata": {
  "kernelspec": {
   "display_name": "Python 3",
   "language": "python",
   "name": "python3"
  },
  "language_info": {
   "codemirror_mode": {
    "name": "ipython",
    "version": 3
   },
   "file_extension": ".py",
   "mimetype": "text/x-python",
   "name": "python",
   "nbconvert_exporter": "python",
   "pygments_lexer": "ipython3",
   "version": "3.8.5"
  }
 },
 "nbformat": 4,
 "nbformat_minor": 4
}
